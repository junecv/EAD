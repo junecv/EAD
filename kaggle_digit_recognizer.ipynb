{
  "nbformat": 4,
  "nbformat_minor": 0,
  "metadata": {
    "colab": {
      "name": "kaggle digit recognizer_0214.ipynb",
      "provenance": [],
      "collapsed_sections": [
        "OpJf9aV4ZhEb",
        "Ke02RdcnP5QZ",
        "1vBjLWZ52ACa"
      ],
      "toc_visible": true,
      "authorship_tag": "ABX9TyMkWTuuVrywqTuNEtTKlkfm",
      "include_colab_link": true
    },
    "kernelspec": {
      "name": "python3",
      "display_name": "Python 3"
    },
    "language_info": {
      "name": "python"
    }
  },
  "cells": [
    {
      "cell_type": "markdown",
      "metadata": {
        "id": "view-in-github",
        "colab_type": "text"
      },
      "source": [
        "<a href=\"https://colab.research.google.com/github/junecv/EAD/blob/main/kaggle_digit_recognizer.ipynb\" target=\"_parent\"><img src=\"https://colab.research.google.com/assets/colab-badge.svg\" alt=\"Open In Colab\"/></a>"
      ]
    },
    {
      "cell_type": "markdown",
      "source": [
        "## Ingest"
      ],
      "metadata": {
        "id": "TBdF-YJyeJkL"
      }
    },
    {
      "cell_type": "code",
      "execution_count": null,
      "metadata": {
        "id": "8vlvzPDMd-Vf"
      },
      "outputs": [],
      "source": [
        "# import required packages\n",
        "\n",
        "import pandas as pd\n",
        "import numpy as np\n",
        "import matplotlib.pyplot as plt\n",
        "%matplotlib inline\n",
        "\n",
        "import seaborn as sns\n",
        "sns.set_theme()\n",
        "\n",
        "from IPython.core.interactiveshell import InteractiveShell\n",
        "InteractiveShell.ast_node_interactivity = \"all\""
      ]
    },
    {
      "cell_type": "code",
      "source": [
        "# read training data\n",
        "\n",
        "URL = 'https://drive.google.com/file/d/1fZUoe_uhJ38CQsFoMWvKcI5hJquYC0k5/view?usp=sharing'\n",
        "path = 'https://drive.google.com/uc?export=download&id='+URL.split('/')[-2]\n",
        "train = pd.read_csv(path)\n",
        "\n",
        "URL = 'https://drive.google.com/file/d/1EaJOtSOvAnTw3KDnlta4awwci2rqNaPo/view?usp=sharing'\n",
        "path = 'https://drive.google.com/uc?export=download&id='+URL.split('/')[-2]\n",
        "test = pd.read_csv(path)"
      ],
      "metadata": {
        "id": "xZnvu9E4oXwz"
      },
      "execution_count": null,
      "outputs": []
    },
    {
      "cell_type": "markdown",
      "source": [
        "## Round 1: Assignment Requirement"
      ],
      "metadata": {
        "id": "LVlGrYNWE9Y_"
      }
    },
    {
      "cell_type": "markdown",
      "source": [
        "### EDA"
      ],
      "metadata": {
        "id": "HEaf6iRPfQuJ"
      }
    },
    {
      "cell_type": "markdown",
      "source": [
        "#### Data Structure"
      ],
      "metadata": {
        "id": "XHE-4fIpfVgQ"
      }
    },
    {
      "cell_type": "code",
      "source": [
        "# review training data\n",
        "# assign train to df\n",
        "\n",
        "train.iloc[:,1:].info()\n",
        "train.iloc[:,1:].describe()"
      ],
      "metadata": {
        "colab": {
          "base_uri": "https://localhost:8080/",
          "height": 436
        },
        "id": "Qu65ZlIVehTF",
        "outputId": "e0ae46fb-7723-46a7-eedf-f35694ff56cb"
      },
      "execution_count": null,
      "outputs": [
        {
          "output_type": "stream",
          "name": "stdout",
          "text": [
            "<class 'pandas.core.frame.DataFrame'>\n",
            "RangeIndex: 42000 entries, 0 to 41999\n",
            "Columns: 784 entries, pixel0 to pixel783\n",
            "dtypes: int64(784)\n",
            "memory usage: 251.2 MB\n"
          ]
        },
        {
          "output_type": "execute_result",
          "data": {
            "text/plain": [
              "        pixel0   pixel1   pixel2   pixel3   pixel4   pixel5   pixel6   pixel7  \\\n",
              "count  42000.0  42000.0  42000.0  42000.0  42000.0  42000.0  42000.0  42000.0   \n",
              "mean       0.0      0.0      0.0      0.0      0.0      0.0      0.0      0.0   \n",
              "std        0.0      0.0      0.0      0.0      0.0      0.0      0.0      0.0   \n",
              "min        0.0      0.0      0.0      0.0      0.0      0.0      0.0      0.0   \n",
              "25%        0.0      0.0      0.0      0.0      0.0      0.0      0.0      0.0   \n",
              "50%        0.0      0.0      0.0      0.0      0.0      0.0      0.0      0.0   \n",
              "75%        0.0      0.0      0.0      0.0      0.0      0.0      0.0      0.0   \n",
              "max        0.0      0.0      0.0      0.0      0.0      0.0      0.0      0.0   \n",
              "\n",
              "        pixel8   pixel9  ...      pixel774      pixel775      pixel776  \\\n",
              "count  42000.0  42000.0  ...  42000.000000  42000.000000  42000.000000   \n",
              "mean       0.0      0.0  ...      0.219286      0.117095      0.059024   \n",
              "std        0.0      0.0  ...      6.312890      4.633819      3.274488   \n",
              "min        0.0      0.0  ...      0.000000      0.000000      0.000000   \n",
              "25%        0.0      0.0  ...      0.000000      0.000000      0.000000   \n",
              "50%        0.0      0.0  ...      0.000000      0.000000      0.000000   \n",
              "75%        0.0      0.0  ...      0.000000      0.000000      0.000000   \n",
              "max        0.0      0.0  ...    254.000000    254.000000    253.000000   \n",
              "\n",
              "          pixel777      pixel778      pixel779  pixel780  pixel781  pixel782  \\\n",
              "count  42000.00000  42000.000000  42000.000000   42000.0   42000.0   42000.0   \n",
              "mean       0.02019      0.017238      0.002857       0.0       0.0       0.0   \n",
              "std        1.75987      1.894498      0.414264       0.0       0.0       0.0   \n",
              "min        0.00000      0.000000      0.000000       0.0       0.0       0.0   \n",
              "25%        0.00000      0.000000      0.000000       0.0       0.0       0.0   \n",
              "50%        0.00000      0.000000      0.000000       0.0       0.0       0.0   \n",
              "75%        0.00000      0.000000      0.000000       0.0       0.0       0.0   \n",
              "max      253.00000    254.000000     62.000000       0.0       0.0       0.0   \n",
              "\n",
              "       pixel783  \n",
              "count   42000.0  \n",
              "mean        0.0  \n",
              "std         0.0  \n",
              "min         0.0  \n",
              "25%         0.0  \n",
              "50%         0.0  \n",
              "75%         0.0  \n",
              "max         0.0  \n",
              "\n",
              "[8 rows x 784 columns]"
            ],
            "text/html": [
              "<div>\n",
              "<style scoped>\n",
              "    .dataframe tbody tr th:only-of-type {\n",
              "        vertical-align: middle;\n",
              "    }\n",
              "\n",
              "    .dataframe tbody tr th {\n",
              "        vertical-align: top;\n",
              "    }\n",
              "\n",
              "    .dataframe thead th {\n",
              "        text-align: right;\n",
              "    }\n",
              "</style>\n",
              "<table border=\"1\" class=\"dataframe\">\n",
              "  <thead>\n",
              "    <tr style=\"text-align: right;\">\n",
              "      <th></th>\n",
              "      <th>pixel0</th>\n",
              "      <th>pixel1</th>\n",
              "      <th>pixel2</th>\n",
              "      <th>pixel3</th>\n",
              "      <th>pixel4</th>\n",
              "      <th>pixel5</th>\n",
              "      <th>pixel6</th>\n",
              "      <th>pixel7</th>\n",
              "      <th>pixel8</th>\n",
              "      <th>pixel9</th>\n",
              "      <th>...</th>\n",
              "      <th>pixel774</th>\n",
              "      <th>pixel775</th>\n",
              "      <th>pixel776</th>\n",
              "      <th>pixel777</th>\n",
              "      <th>pixel778</th>\n",
              "      <th>pixel779</th>\n",
              "      <th>pixel780</th>\n",
              "      <th>pixel781</th>\n",
              "      <th>pixel782</th>\n",
              "      <th>pixel783</th>\n",
              "    </tr>\n",
              "  </thead>\n",
              "  <tbody>\n",
              "    <tr>\n",
              "      <th>count</th>\n",
              "      <td>42000.0</td>\n",
              "      <td>42000.0</td>\n",
              "      <td>42000.0</td>\n",
              "      <td>42000.0</td>\n",
              "      <td>42000.0</td>\n",
              "      <td>42000.0</td>\n",
              "      <td>42000.0</td>\n",
              "      <td>42000.0</td>\n",
              "      <td>42000.0</td>\n",
              "      <td>42000.0</td>\n",
              "      <td>...</td>\n",
              "      <td>42000.000000</td>\n",
              "      <td>42000.000000</td>\n",
              "      <td>42000.000000</td>\n",
              "      <td>42000.00000</td>\n",
              "      <td>42000.000000</td>\n",
              "      <td>42000.000000</td>\n",
              "      <td>42000.0</td>\n",
              "      <td>42000.0</td>\n",
              "      <td>42000.0</td>\n",
              "      <td>42000.0</td>\n",
              "    </tr>\n",
              "    <tr>\n",
              "      <th>mean</th>\n",
              "      <td>0.0</td>\n",
              "      <td>0.0</td>\n",
              "      <td>0.0</td>\n",
              "      <td>0.0</td>\n",
              "      <td>0.0</td>\n",
              "      <td>0.0</td>\n",
              "      <td>0.0</td>\n",
              "      <td>0.0</td>\n",
              "      <td>0.0</td>\n",
              "      <td>0.0</td>\n",
              "      <td>...</td>\n",
              "      <td>0.219286</td>\n",
              "      <td>0.117095</td>\n",
              "      <td>0.059024</td>\n",
              "      <td>0.02019</td>\n",
              "      <td>0.017238</td>\n",
              "      <td>0.002857</td>\n",
              "      <td>0.0</td>\n",
              "      <td>0.0</td>\n",
              "      <td>0.0</td>\n",
              "      <td>0.0</td>\n",
              "    </tr>\n",
              "    <tr>\n",
              "      <th>std</th>\n",
              "      <td>0.0</td>\n",
              "      <td>0.0</td>\n",
              "      <td>0.0</td>\n",
              "      <td>0.0</td>\n",
              "      <td>0.0</td>\n",
              "      <td>0.0</td>\n",
              "      <td>0.0</td>\n",
              "      <td>0.0</td>\n",
              "      <td>0.0</td>\n",
              "      <td>0.0</td>\n",
              "      <td>...</td>\n",
              "      <td>6.312890</td>\n",
              "      <td>4.633819</td>\n",
              "      <td>3.274488</td>\n",
              "      <td>1.75987</td>\n",
              "      <td>1.894498</td>\n",
              "      <td>0.414264</td>\n",
              "      <td>0.0</td>\n",
              "      <td>0.0</td>\n",
              "      <td>0.0</td>\n",
              "      <td>0.0</td>\n",
              "    </tr>\n",
              "    <tr>\n",
              "      <th>min</th>\n",
              "      <td>0.0</td>\n",
              "      <td>0.0</td>\n",
              "      <td>0.0</td>\n",
              "      <td>0.0</td>\n",
              "      <td>0.0</td>\n",
              "      <td>0.0</td>\n",
              "      <td>0.0</td>\n",
              "      <td>0.0</td>\n",
              "      <td>0.0</td>\n",
              "      <td>0.0</td>\n",
              "      <td>...</td>\n",
              "      <td>0.000000</td>\n",
              "      <td>0.000000</td>\n",
              "      <td>0.000000</td>\n",
              "      <td>0.00000</td>\n",
              "      <td>0.000000</td>\n",
              "      <td>0.000000</td>\n",
              "      <td>0.0</td>\n",
              "      <td>0.0</td>\n",
              "      <td>0.0</td>\n",
              "      <td>0.0</td>\n",
              "    </tr>\n",
              "    <tr>\n",
              "      <th>25%</th>\n",
              "      <td>0.0</td>\n",
              "      <td>0.0</td>\n",
              "      <td>0.0</td>\n",
              "      <td>0.0</td>\n",
              "      <td>0.0</td>\n",
              "      <td>0.0</td>\n",
              "      <td>0.0</td>\n",
              "      <td>0.0</td>\n",
              "      <td>0.0</td>\n",
              "      <td>0.0</td>\n",
              "      <td>...</td>\n",
              "      <td>0.000000</td>\n",
              "      <td>0.000000</td>\n",
              "      <td>0.000000</td>\n",
              "      <td>0.00000</td>\n",
              "      <td>0.000000</td>\n",
              "      <td>0.000000</td>\n",
              "      <td>0.0</td>\n",
              "      <td>0.0</td>\n",
              "      <td>0.0</td>\n",
              "      <td>0.0</td>\n",
              "    </tr>\n",
              "    <tr>\n",
              "      <th>50%</th>\n",
              "      <td>0.0</td>\n",
              "      <td>0.0</td>\n",
              "      <td>0.0</td>\n",
              "      <td>0.0</td>\n",
              "      <td>0.0</td>\n",
              "      <td>0.0</td>\n",
              "      <td>0.0</td>\n",
              "      <td>0.0</td>\n",
              "      <td>0.0</td>\n",
              "      <td>0.0</td>\n",
              "      <td>...</td>\n",
              "      <td>0.000000</td>\n",
              "      <td>0.000000</td>\n",
              "      <td>0.000000</td>\n",
              "      <td>0.00000</td>\n",
              "      <td>0.000000</td>\n",
              "      <td>0.000000</td>\n",
              "      <td>0.0</td>\n",
              "      <td>0.0</td>\n",
              "      <td>0.0</td>\n",
              "      <td>0.0</td>\n",
              "    </tr>\n",
              "    <tr>\n",
              "      <th>75%</th>\n",
              "      <td>0.0</td>\n",
              "      <td>0.0</td>\n",
              "      <td>0.0</td>\n",
              "      <td>0.0</td>\n",
              "      <td>0.0</td>\n",
              "      <td>0.0</td>\n",
              "      <td>0.0</td>\n",
              "      <td>0.0</td>\n",
              "      <td>0.0</td>\n",
              "      <td>0.0</td>\n",
              "      <td>...</td>\n",
              "      <td>0.000000</td>\n",
              "      <td>0.000000</td>\n",
              "      <td>0.000000</td>\n",
              "      <td>0.00000</td>\n",
              "      <td>0.000000</td>\n",
              "      <td>0.000000</td>\n",
              "      <td>0.0</td>\n",
              "      <td>0.0</td>\n",
              "      <td>0.0</td>\n",
              "      <td>0.0</td>\n",
              "    </tr>\n",
              "    <tr>\n",
              "      <th>max</th>\n",
              "      <td>0.0</td>\n",
              "      <td>0.0</td>\n",
              "      <td>0.0</td>\n",
              "      <td>0.0</td>\n",
              "      <td>0.0</td>\n",
              "      <td>0.0</td>\n",
              "      <td>0.0</td>\n",
              "      <td>0.0</td>\n",
              "      <td>0.0</td>\n",
              "      <td>0.0</td>\n",
              "      <td>...</td>\n",
              "      <td>254.000000</td>\n",
              "      <td>254.000000</td>\n",
              "      <td>253.000000</td>\n",
              "      <td>253.00000</td>\n",
              "      <td>254.000000</td>\n",
              "      <td>62.000000</td>\n",
              "      <td>0.0</td>\n",
              "      <td>0.0</td>\n",
              "      <td>0.0</td>\n",
              "      <td>0.0</td>\n",
              "    </tr>\n",
              "  </tbody>\n",
              "</table>\n",
              "<p>8 rows × 784 columns</p>\n",
              "</div>"
            ]
          },
          "metadata": {},
          "execution_count": 94
        }
      ]
    },
    {
      "cell_type": "code",
      "source": [
        "# check for missing data\n",
        "\n",
        "train.isnull().values.any()"
      ],
      "metadata": {
        "colab": {
          "base_uri": "https://localhost:8080/"
        },
        "id": "lg3R38t3otvm",
        "outputId": "cb03bda3-b40f-4a64-c323-46fd2be7788a"
      },
      "execution_count": null,
      "outputs": [
        {
          "output_type": "execute_result",
          "data": {
            "text/plain": [
              "False"
            ]
          },
          "metadata": {},
          "execution_count": 95
        }
      ]
    },
    {
      "cell_type": "code",
      "source": [
        "# review distributions of response\n",
        "\n",
        "sns.histplot(train['label']);\n",
        "\n",
        "# distribution is not skewed "
      ],
      "metadata": {
        "colab": {
          "base_uri": "https://localhost:8080/",
          "height": 282
        },
        "id": "u502icDRgbUi",
        "outputId": "704aec17-8563-409d-e9a0-2d2e7fc90e06"
      },
      "execution_count": null,
      "outputs": [
        {
          "output_type": "display_data",
          "data": {
            "text/plain": [
              "<Figure size 432x288 with 1 Axes>"
            ],
            "image/png": "[encoded data removed]"
          },
          "metadata": {}
        }
      ]
    },
    {
      "cell_type": "markdown",
      "source": [
        "#### Review individual features"
      ],
      "metadata": {
        "id": "-OUBz3J3lZje"
      }
    },
    {
      "cell_type": "code",
      "source": [
        "lst0 = []       # list of columns with all entries == 0\n",
        "lst1 = []       # list of columns with all entries == 255\n",
        "lst2 = []       # list of columns not in list 0 or 1\n",
        "\n",
        "col = train.iloc[:,1:].columns\n",
        "\n",
        "for i in col[1:]:\n",
        "  if train[i].mean() == 0:\n",
        "    lst0.append(i)\n",
        "  else:\n",
        "    if train[i].mean() == 255:\n",
        "      lst1.append(i)\n",
        "    else: \n",
        "      lst2.append(i)\n",
        "\n",
        "# print(lst0)\n",
        "# print(lst1)\n",
        "# print(lst2)\n",
        "\n",
        "# 76 pixels are exactly the same, being all white\n",
        "# no pixels are all black\n",
        "# 708 pixels contains different information"
      ],
      "metadata": {
        "id": "BzqWNabYRa5Q"
      },
      "execution_count": null,
      "outputs": []
    },
    {
      "cell_type": "markdown",
      "source": [
        "#### Review features relationships"
      ],
      "metadata": {
        "id": "OpJf9aV4ZhEb"
      }
    },
    {
      "cell_type": "code",
      "source": [
        "# # create heatmap to examine correlations within lst2\n",
        "# corr = df[lst2].corr()\n",
        "# plt.subplots(figsize=(18, 18))\n",
        "# sns.heatmap(corr, vmax=.8, square=True, annot=False, cmap='coolwarm');"
      ],
      "metadata": {
        "id": "prSH3akbAR7x"
      },
      "execution_count": null,
      "outputs": []
    },
    {
      "cell_type": "code",
      "source": [
        "# # above correlation graph shows an interesting pattern. \n",
        "# # zoom in to view corr of ~10% of pixels in lst2\n",
        "\n",
        "# corr = df[lst2[0:70]].corr()\n",
        "# plt.subplots(figsize=(18, 18))\n",
        "# sns.heatmap(corr, vmax=.8, square=True, annot=False, cmap='coolwarm');"
      ],
      "metadata": {
        "id": "nxvYg0d2vrj3"
      },
      "execution_count": null,
      "outputs": []
    },
    {
      "cell_type": "code",
      "source": [
        "# the immediate area around center diagonal shows correlation between pixels\n",
        "# that are right next to each other, like pixel12 and pixel13\n",
        "\n",
        "# the two orange red lines parallel to the center diagonal shows correlation \n",
        "# between pixels that are above/below each other, like pixel58 and pixel86,\n",
        "# as they 86 - 58 = 28."
      ],
      "metadata": {
        "id": "g3nDa_pYxZOm"
      },
      "execution_count": null,
      "outputs": []
    },
    {
      "cell_type": "markdown",
      "source": [
        "### Modeling (per Assignment Requirements) "
      ],
      "metadata": {
        "id": "CwSwq-xA8X19"
      }
    },
    {
      "cell_type": "markdown",
      "source": [
        "#### Random Forest Classifier I"
      ],
      "metadata": {
        "id": "_68GG7kwsG8c"
      }
    },
    {
      "cell_type": "code",
      "source": [
        "from sklearn.ensemble import RandomForestClassifier\n",
        "import time\n",
        "\n",
        "# Prepare training set\n",
        "X, y = df.iloc[:,1:], df['label']\n",
        "\n",
        "# fit RandomForestClassifer model and measure training time\n",
        "rfc = RandomForestClassifier()\n",
        "start_time = time.time()\n",
        "rfc.fit(X,y)\n",
        "elapsed_time = time.time() - start_time\n",
        "print('\\nelapsed_time =', elapsed_time, 's')"
      ],
      "metadata": {
        "colab": {
          "base_uri": "https://localhost:8080/"
        },
        "id": "ZS-OLZqqgDdK",
        "outputId": "7caf1423-3b12-45e2-fc39-230a5b749cda"
      },
      "execution_count": null,
      "outputs": [
        {
          "output_type": "execute_result",
          "data": {
            "text/plain": [
              "RandomForestClassifier()"
            ]
          },
          "metadata": {},
          "execution_count": 30
        },
        {
          "output_type": "stream",
          "name": "stdout",
          "text": [
            "\n",
            "elapsed_time = 26.881176948547363 s\n"
          ]
        }
      ]
    },
    {
      "cell_type": "code",
      "source": [
        "# make predictions on test set\n",
        "\n",
        "## prepare test set\n",
        "X = test\n",
        "\n",
        "## make prediction \n",
        "pred = rfc.predict(X)\n",
        "\n",
        "## prepare submission file\n",
        "submission = pd.DataFrame({'ImageId': (X.index + 1), 'Label': pred})\n",
        "\n",
        "# export prediction\n",
        "submission.to_csv('submission_rfc1.csv', index=False)"
      ],
      "metadata": {
        "id": "skouCeIgawpf"
      },
      "execution_count": null,
      "outputs": []
    },
    {
      "cell_type": "markdown",
      "source": [
        "#### PCA"
      ],
      "metadata": {
        "id": "T6gmUmkxfb-K"
      }
    },
    {
      "cell_type": "code",
      "source": [
        "# combine trainig and test set\n",
        "X = train.iloc[:,1:].append(test)\n",
        "\n",
        "# standardize dataset\n",
        "from sklearn.preprocessing import StandardScaler\n",
        "\n",
        "scaler = StandardScaler()\n",
        "X_scaled = scaler.fit_transform(X)"
      ],
      "metadata": {
        "id": "YtgELK13gxlC"
      },
      "execution_count": null,
      "outputs": []
    },
    {
      "cell_type": "code",
      "source": [
        "# perform PCA on full set of explantory variables\n",
        "from sklearn.decomposition import PCA\n",
        "import time\n",
        "\n",
        "pca = PCA()\n",
        "start_time = time.time()\n",
        "pca.fit(X_scaled)\n",
        "elapsed_time = time.time() - start_time\n",
        "print('\\nelapsed_time =', elapsed_time, 's')"
      ],
      "metadata": {
        "colab": {
          "base_uri": "https://localhost:8080/"
        },
        "id": "qHNwbilvfnE2",
        "outputId": "233cb596-b46c-47f5-eb5a-2fc873497bc4"
      },
      "execution_count": null,
      "outputs": [
        {
          "output_type": "execute_result",
          "data": {
            "text/plain": [
              "PCA()"
            ]
          },
          "metadata": {},
          "execution_count": 72
        },
        {
          "output_type": "stream",
          "name": "stdout",
          "text": [
            "\n",
            "elapsed_time = 9.95266580581665 s\n"
          ]
        }
      ]
    },
    {
      "cell_type": "code",
      "source": [
        "# review grqaphically # of components vs % of the variability explained\n",
        "\n",
        "plt.plot(np.cumsum(pca.explained_variance_ratio_))\n",
        "plt.xlabel('number of components')\n",
        "plt.ylabel('cumulative explained variance');"
      ],
      "metadata": {
        "colab": {
          "base_uri": "https://localhost:8080/"
        },
        "id": "5k8zI2Tqt0f-",
        "outputId": "e7031d3c-bfdf-4e01-ecf0-47a5541f942b"
      },
      "execution_count": null,
      "outputs": [
        {
          "output_type": "display_data",
          "data": {
            "text/plain": [
              "<Figure size 432x288 with 1 Axes>"
            ],
            "image/png": "[encoded data removed]"
          },
          "metadata": {}
        }
      ]
    },
    {
      "cell_type": "code",
      "source": [
        "# initiate pca_result datafram \n",
        "pca_result = pd.DataFrame({'col': X.columns, 'ratio': pca.explained_variance_ratio_})\n",
        "\n",
        "# calculate culmulated ratio\n",
        "pca_result['culmulated_ratio'] = pca_result['ratio'].cumsum()\n",
        "\n",
        "# create list of variables that explain for 95% of the variability in the explanatory variables\n",
        "lst = []\n",
        "counter = 0\n",
        "\n",
        "for i in range(len(pca_result)):\n",
        "  count = int(pca_result['culmulated_ratio'][i] >= 0.95)\n",
        "  counter += count\n",
        "  if (counter == 0) | (counter == 1):\n",
        "    lst.append(pca_result['col'][i])\n",
        "  else: pass\n",
        "\n",
        "len(lst)"
      ],
      "metadata": {
        "colab": {
          "base_uri": "https://localhost:8080/"
        },
        "id": "1Dkba_53uQZW",
        "outputId": "ff4155b4-4ab9-466a-966b-56007b7a9e55"
      },
      "execution_count": null,
      "outputs": [
        {
          "output_type": "execute_result",
          "data": {
            "text/plain": [
              "332"
            ]
          },
          "metadata": {},
          "execution_count": 38
        }
      ]
    },
    {
      "cell_type": "markdown",
      "source": [
        "#### Random Forest Classifier II"
      ],
      "metadata": {
        "id": "Ke02RdcnP5QZ"
      }
    },
    {
      "cell_type": "code",
      "source": [
        "from sklearn.ensemble import RandomForestClassifier\n",
        "import time\n",
        "\n",
        "# Prepare training set\n",
        "X, y = train[lst], df['label']\n",
        "\n",
        "# fit RandomForestClassifer model and measure training time\n",
        "rfc = RandomForestClassifier()\n",
        "start_time = time.time()\n",
        "rfc.fit(X,y)\n",
        "elapsed_time = time.time() - start_time\n",
        "print('\\nelapsed_time =', elapsed_time, 's')"
      ],
      "metadata": {
        "colab": {
          "base_uri": "https://localhost:8080/"
        },
        "id": "ieXlDQDBP49r",
        "outputId": "e774312e-e0fc-4315-f2dd-a21758005043"
      },
      "execution_count": null,
      "outputs": [
        {
          "output_type": "execute_result",
          "data": {
            "text/plain": [
              "RandomForestClassifier()"
            ]
          },
          "metadata": {},
          "execution_count": 39
        },
        {
          "output_type": "stream",
          "name": "stdout",
          "text": [
            "\n",
            "elapsed_time = 17.097267866134644 s\n"
          ]
        }
      ]
    },
    {
      "cell_type": "code",
      "source": [
        "# make predictions on test set\n",
        "\n",
        "## prepare test set\n",
        "X = test[lst]\n",
        "\n",
        "## make prediction \n",
        "pred = rfc.predict(X)\n",
        "\n",
        "## prepare submission file\n",
        "submission = pd.DataFrame({'ImageId': (X.index + 1), 'Label': pred})\n",
        "submission.to_csv('submission_rfc2.csv', index=False)"
      ],
      "metadata": {
        "id": "Bf5Sdr7qQUPk"
      },
      "execution_count": null,
      "outputs": []
    },
    {
      "cell_type": "markdown",
      "source": [
        "#### K-Means Clustering"
      ],
      "metadata": {
        "id": "1vBjLWZ52ACa"
      }
    },
    {
      "cell_type": "code",
      "source": [
        "from sklearn.cluster import KMeans\n",
        "\n",
        "# prepare traiing set\n",
        "X = train.iloc[:,1:].append(test)\n",
        "\n",
        "# Fit kmean and record fitting time\n",
        "start_time = time.time()\n",
        "kmeans = KMeans(n_clusters = 10, n_init = 10, random_state = 12).fit(X)\n",
        "elapsed_time = time.time() - start_time\n",
        "print('\\nelapsed_time =', elapsed_time, 's')"
      ],
      "metadata": {
        "id": "ZXOtNlWF2CfU"
      },
      "execution_count": null,
      "outputs": []
    },
    {
      "cell_type": "code",
      "source": [
        "# assign labels to groups\n",
        "\n",
        "labels = pd.DataFrame({'kmeans': np.unique(kmeans.labels_),  \n",
        "                       'actual': np.NAN,\n",
        "                       'j': np.NAN})\n",
        "\n",
        "for i in np.unique(kmeans.labels_):\n",
        "  index = np.where(kmeans.labels_[:len(train)] == i)\n",
        "  j = 0\n",
        "  while pd.isnull(labels.loc[i, 'actual']):\n",
        "    group = df.iloc[index]['label'].value_counts().index[j]\n",
        "    if group not in set(labels['actual']):\n",
        "      labels.loc[i, 'actual'] = group\n",
        "      labels.loc[i, 'j'] = j\n",
        "    else: \n",
        "      j += 1\n",
        "\n",
        "labels"
      ],
      "metadata": {
        "id": "IYTzUn6Kzbd0"
      },
      "execution_count": null,
      "outputs": []
    },
    {
      "cell_type": "code",
      "source": [
        "# map actual label to kmeans label\n",
        "\n",
        "map = labels.set_index('kmeans').to_dict()['actual']\n",
        "pred = [map[i] for i in kmeans.labels_]"
      ],
      "metadata": {
        "id": "6jCsBEDp1jW7"
      },
      "execution_count": null,
      "outputs": []
    },
    {
      "cell_type": "code",
      "source": [
        "# review accuracy on training set\n",
        "\n",
        "(pred[:len(train)] == train['label']).value_counts()"
      ],
      "metadata": {
        "id": "CLYgbWky4XXc"
      },
      "execution_count": null,
      "outputs": []
    },
    {
      "cell_type": "code",
      "source": [
        "## prepare submission file\n",
        "submission = pd.DataFrame({'ImageId': (test.index + 1), 'Label': pred[len(train):]})\n",
        "submission.to_csv('submission_kmeans.csv', index=False)"
      ],
      "metadata": {
        "id": "V-bsdVMv8R_m"
      },
      "execution_count": null,
      "outputs": []
    },
    {
      "cell_type": "markdown",
      "source": [
        "### Discussion on Design Flaw"
      ],
      "metadata": {
        "id": "q7sItlbVKpLr"
      }
    },
    {
      "cell_type": "markdown",
      "source": [
        "The major design flaw from above modeling process is that it did not properly evaluate models before attempt to submit prediction When no model evaluation process (e.g. CV) in place (e.g. cross-validation, fine-tuning hyperparameter). The evaluation process is inefficient by submitting and testing out Kaggle results. \n",
        "\n",
        "Below steps shall improve on the process."
      ],
      "metadata": {
        "id": "IRcwZJ_xQwyq"
      }
    },
    {
      "cell_type": "markdown",
      "source": [
        "## Round 2: Revisiting Process"
      ],
      "metadata": {
        "id": "EBXAtB52EM87"
      }
    },
    {
      "cell_type": "markdown",
      "source": [
        "### EDA"
      ],
      "metadata": {
        "id": "ObHo7PxxFodZ"
      }
    },
    {
      "cell_type": "code",
      "source": [
        "# plot sample as img\n",
        "\n",
        "digit = train.iloc[0, 1:].values\n",
        "digit_img = digit.reshape(28,28)\n",
        "\n",
        "plt.imshow(digit_img, cmap='binary')\n",
        "plt.axis('off')\n",
        "plt.show()\n",
        "\n",
        "print('\\nlabel is', train['label'][0]);"
      ],
      "metadata": {
        "colab": {
          "base_uri": "https://localhost:8080/",
          "height": 283
        },
        "id": "BcotEZVxP1Dq",
        "outputId": "dcd19f86-7b36-4226-ac37-f7bf5fe38f91"
      },
      "execution_count": null,
      "outputs": [
        {
          "output_type": "display_data",
          "data": {
            "text/plain": [
              "<Figure size 432x288 with 1 Axes>"
            ],
            "image/png": "[encoded data removed]"
          },
          "metadata": {}
        },
        {
          "output_type": "stream",
          "name": "stdout",
          "text": [
            "\n",
            "label is 1\n"
          ]
        }
      ]
    },
    {
      "cell_type": "markdown",
      "source": [
        "#### Review features relationships"
      ],
      "metadata": {
        "id": "gVKZO6-RfNNZ"
      }
    },
    {
      "cell_type": "code",
      "source": [
        "# create heatmap to examine label 0 correlations within lst2\n",
        "\n",
        "# for i in range(10):\n",
        "#   corr = train[train['label'] == i][lst2].corr()\n",
        "#   plt.subplots(figsize=(18, 18))\n",
        "#   title = 'correlation matrxi for label=' + str(i)\n",
        "#   g = sns.heatmap(corr, square=True, annot=False, cmap='coolwarm');\n",
        "#   g.set_title(title)\n",
        "#   plt.show()"
      ],
      "metadata": {
        "id": "oSx8q_gteiGE"
      },
      "execution_count": null,
      "outputs": []
    },
    {
      "cell_type": "markdown",
      "source": [
        "### Modeling"
      ],
      "metadata": {
        "id": "990MZs1Bsig1"
      }
    },
    {
      "cell_type": "markdown",
      "source": [
        "#### Random Forest Classifier III "
      ],
      "metadata": {
        "id": "eU1urjC4ZDkb"
      }
    },
    {
      "cell_type": "code",
      "source": [
        "# since base model achieves 96% plus accuracy\n",
        "# we shall start with RFC, with scaling\n",
        "\n",
        "from sklearn.preprocessing import StandardScaler\n",
        "from sklearn.ensemble import RandomForestClassifier\n",
        "import time\n",
        "\n",
        "# Prepare training set\n",
        "scaler = StandardScaler()\n",
        "X, y = train.iloc[:,1:], train['label']\n",
        "\n",
        "# fit RandomForestClassifer model and measure training time\n",
        "rfc = RandomForestClassifier(n_jobs=-1)\n",
        "start_time = time.time()\n",
        "rfc.fit(X,y)\n",
        "elapsed_time = time.time() - start_time\n",
        "print('\\nelapsed_time =', elapsed_time, 's')"
      ],
      "metadata": {
        "colab": {
          "base_uri": "https://localhost:8080/"
        },
        "id": "6U_5YQr3P8rg",
        "outputId": "6f527a76-add0-4285-b777-026cb8494b7b"
      },
      "execution_count": null,
      "outputs": [
        {
          "output_type": "execute_result",
          "data": {
            "text/plain": [
              "RandomForestClassifier(n_jobs=-1)"
            ]
          },
          "metadata": {},
          "execution_count": 62
        },
        {
          "output_type": "stream",
          "name": "stdout",
          "text": [
            "\n",
            "elapsed_time = 6.752580881118774 s\n"
          ]
        }
      ]
    },
    {
      "cell_type": "code",
      "source": [
        "# perform cross validation\n",
        "from sklearn.model_selection import cross_val_score\n",
        "\n",
        "score = cross_val_score(rfc, X, y, cv=10, scoring = 'f1_macro', verbose = 3, n_jobs=-1)\n",
        "print('CV score =' , score , 'CV score mean = ', score.mean())"
      ],
      "metadata": {
        "colab": {
          "base_uri": "https://localhost:8080/"
        },
        "id": "p2JIbeA6Rx7Q",
        "outputId": "dd540eae-b16d-4cb5-c72a-e9aac1913601"
      },
      "execution_count": null,
      "outputs": [
        {
          "output_type": "stream",
          "name": "stderr",
          "text": [
            "[Parallel(n_jobs=-1)]: Using backend LokyBackend with 8 concurrent workers.\n",
            "[Parallel(n_jobs=-1)]: Done   3 out of  10 | elapsed:   48.8s remaining:  1.9min\n",
            "[Parallel(n_jobs=-1)]: Done   7 out of  10 | elapsed:   48.9s remaining:   21.0s\n"
          ]
        },
        {
          "output_type": "stream",
          "name": "stdout",
          "text": [
            "CV score = [0.96222844 0.96079801 0.96368627 0.96150023 0.96105502 0.9633533\n",
            " 0.9711274  0.96648304 0.96553506 0.96892047] CV score mean =  0.9644687236686028\n"
          ]
        },
        {
          "output_type": "stream",
          "name": "stderr",
          "text": [
            "[Parallel(n_jobs=-1)]: Done  10 out of  10 | elapsed:   59.7s finished\n"
          ]
        }
      ]
    },
    {
      "cell_type": "code",
      "source": [
        "# Review erros\n",
        "\n",
        "from sklearn.model_selection import cross_val_predict\n",
        "from sklearn.metrics import confusion_matrix\n",
        "\n",
        "pred = cross_val_predict(rfc, X, y, cv = 3)\n",
        "conf_mx = confusion_matrix(y, pred)\n",
        "conf_mx"
      ],
      "metadata": {
        "colab": {
          "base_uri": "https://localhost:8080/"
        },
        "id": "ciWp4L6SW8dP",
        "outputId": "6b7d3268-d838-4f88-c3e3-d042301ade50"
      },
      "execution_count": null,
      "outputs": [
        {
          "output_type": "execute_result",
          "data": {
            "text/plain": [
              "array([[3635,    0,    4,    2,    4,    5,   17,    0,   23,    4],\n",
              "       [   0, 4155,   27,   13,    9,    3,    6,    8,    8,    3],\n",
              "       [  18,   11, 3651,   18,   20,    2,   12,   36,   22,    5],\n",
              "       [   6,    5,   67, 3636,    2,   54,    5,   29,   53,   24],\n",
              "       [   7,    4,    8,    1, 3577,    1,   23,    7,   11,   71],\n",
              "       [  21,    7,    2,   65,    6, 3249,   24,    3,   20,   17],\n",
              "       [  23,    5,    3,    0,    8,   23, 3633,    0,   16,    0],\n",
              "       [   2,   20,   43,    5,   33,    1,    0, 3810,   10,   54],\n",
              "       [   8,   22,   19,   38,   16,   29,   14,    2, 3440,   46],\n",
              "       [  22,    5,   11,   57,   60,   14,    3,   38,   24, 3517]])"
            ]
          },
          "metadata": {},
          "execution_count": 206
        }
      ]
    },
    {
      "cell_type": "code",
      "source": [
        "# investigate errors\n",
        "row_sums = conf_mx.sum(axis = 1, keepdims = True)\n",
        "norm_conf_mx = conf_mx / row_sums\n",
        "\n",
        "# remove diagonal entries\n",
        "np.fill_diagonal(norm_conf_mx, 0)\n",
        "sns.heatmap(norm_conf_mx, square=True, annot=False, cmap='coolwarm');"
      ],
      "metadata": {
        "colab": {
          "base_uri": "https://localhost:8080/",
          "height": 268
        },
        "id": "HB4q4B-Ubbit",
        "outputId": "661970ca-f8d3-4bea-f13e-9c11f115e980"
      },
      "execution_count": null,
      "outputs": [
        {
          "output_type": "display_data",
          "data": {
            "text/plain": [
              "<Figure size 432x288 with 2 Axes>"
            ],
            "image/png": "[encoded data removed]"
          },
          "metadata": {}
        }
      ]
    },
    {
      "cell_type": "code",
      "source": [
        "# the algorithm performs wweaker for label 3 and 9\n",
        "# potential improvement could be made in preprocessing targeting these two labels"
      ],
      "metadata": {
        "id": "g88LWyA_iQG-"
      },
      "execution_count": null,
      "outputs": []
    },
    {
      "cell_type": "markdown",
      "source": [
        "##### Random Forest Tuning"
      ],
      "metadata": {
        "id": "uyqU3h9m7FP0"
      }
    },
    {
      "cell_type": "code",
      "source": [
        "# upon multiple tuning, max_features = sqrt\n",
        "# grid search on max_depth and n_estimators\n",
        "\n",
        "from sklearn.model_selection import GridSearchCV\n",
        "\n",
        "param_grid = {'max_depth': (5, 10, 50, 100, 500), 'n_estimators' : (300, 400, 500)}\n",
        "grid = GridSearchCV(RandomForestClassifier(max_features='sqrt', n_jobs=-1), param_grid, refit = True, verbose=1, scoring='f1_macro', n_jobs=-1)\n",
        "grid.fit(X,y)"
      ],
      "metadata": {
        "colab": {
          "base_uri": "https://localhost:8080/"
        },
        "id": "gnjFIzil63iy",
        "outputId": "cc6abb5e-d4ef-4416-a3f2-7f912843cc9e"
      },
      "execution_count": null,
      "outputs": [
        {
          "output_type": "stream",
          "name": "stdout",
          "text": [
            "Fitting 5 folds for each of 15 candidates, totalling 75 fits\n"
          ]
        },
        {
          "output_type": "stream",
          "name": "stderr",
          "text": [
            "/Users/jc/opt/miniconda3/envs/msds_env/lib/python3.9/site-packages/joblib/externals/loky/process_executor.py:702: UserWarning: A worker stopped while some jobs were given to the executor. This can be caused by a too short worker timeout or by a memory leak.\n",
            "  warnings.warn(\n"
          ]
        },
        {
          "output_type": "execute_result",
          "data": {
            "text/plain": [
              "GridSearchCV(estimator=RandomForestClassifier(max_features='sqrt', n_jobs=-1),\n",
              "             n_jobs=-1,\n",
              "             param_grid={'max_depth': (5, 10, 50, 100, 500),\n",
              "                         'n_estimators': (300, 400, 500)},\n",
              "             scoring='f1_macro', verbose=1)"
            ]
          },
          "metadata": {},
          "execution_count": 227
        }
      ]
    },
    {
      "cell_type": "code",
      "source": [
        "# review grid result\n",
        "\n",
        "grid.__dict__"
      ],
      "metadata": {
        "colab": {
          "base_uri": "https://localhost:8080/"
        },
        "id": "K0bwJI6s8mcA",
        "outputId": "d5434d05-0398-41cc-cb76-5539e7031152"
      },
      "execution_count": null,
      "outputs": [
        {
          "output_type": "execute_result",
          "data": {
            "text/plain": [
              "{'scoring': 'f1_macro',\n",
              " 'estimator': RandomForestClassifier(max_features='sqrt', n_jobs=-1),\n",
              " 'n_jobs': -1,\n",
              " 'refit': True,\n",
              " 'cv': None,\n",
              " 'verbose': 1,\n",
              " 'pre_dispatch': '2*n_jobs',\n",
              " 'error_score': nan,\n",
              " 'return_train_score': False,\n",
              " 'param_grid': {'max_depth': (5, 10, 50, 100, 500),\n",
              "  'n_estimators': (300, 400, 500)},\n",
              " 'multimetric_': False,\n",
              " 'best_index_': 14,\n",
              " 'best_score_': 0.9655330326267763,\n",
              " 'best_params_': {'max_depth': 500, 'n_estimators': 500},\n",
              " 'best_estimator_': RandomForestClassifier(max_depth=500, max_features='sqrt', n_estimators=500,\n",
              "                        n_jobs=-1),\n",
              " 'refit_time_': 30.65011715888977,\n",
              " 'scorer_': make_scorer(f1_score, pos_label=None, average=macro),\n",
              " 'cv_results_': {'mean_fit_time': array([ 48.21531353,  60.22950139,  76.63514304,  84.71937099,\n",
              "         109.44320235, 127.44392061, 107.70357246, 138.5172812 ,\n",
              "         159.85722957,  98.80909882, 132.94020658, 170.82261662,\n",
              "         104.34139142, 136.06692395, 121.96926603]),\n",
              "  'std_fit_time': array([ 0.21390202,  1.18511651,  0.98361418,  1.01770232,  1.85037927,\n",
              "          2.28807907,  1.93421144,  0.96185523,  2.47816911,  1.1514253 ,\n",
              "          1.68623775,  1.51861435,  1.06576023,  2.25734576, 19.56620238]),\n",
              "  'mean_score_time': array([1.15383182, 1.47506223, 1.7198494 , 1.37385259, 1.57196007,\n",
              "         1.92427168, 1.61287303, 1.91964154, 2.54190817, 1.42957816,\n",
              "         2.06742363, 2.62735453, 1.35168185, 1.81822858, 1.06865606]),\n",
              "  'std_score_time': array([0.09877578, 0.1090795 , 0.20562087, 0.13077975, 0.19035684,\n",
              "         0.11528   , 0.08546079, 0.28630335, 0.11283679, 0.20918324,\n",
              "         0.14749111, 0.10678195, 0.17975318, 0.20122055, 0.24452557]),\n",
              "  'param_max_depth': masked_array(data=[5, 5, 5, 10, 10, 10, 50, 50, 50, 100, 100, 100, 500,\n",
              "                     500, 500],\n",
              "               mask=[False, False, False, False, False, False, False, False,\n",
              "                     False, False, False, False, False, False, False],\n",
              "         fill_value='?',\n",
              "              dtype=object),\n",
              "  'param_n_estimators': masked_array(data=[300, 400, 500, 300, 400, 500, 300, 400, 500, 300, 400,\n",
              "                     500, 300, 400, 500],\n",
              "               mask=[False, False, False, False, False, False, False, False,\n",
              "                     False, False, False, False, False, False, False],\n",
              "         fill_value='?',\n",
              "              dtype=object),\n",
              "  'params': [{'max_depth': 5, 'n_estimators': 300},\n",
              "   {'max_depth': 5, 'n_estimators': 400},\n",
              "   {'max_depth': 5, 'n_estimators': 500},\n",
              "   {'max_depth': 10, 'n_estimators': 300},\n",
              "   {'max_depth': 10, 'n_estimators': 400},\n",
              "   {'max_depth': 10, 'n_estimators': 500},\n",
              "   {'max_depth': 50, 'n_estimators': 300},\n",
              "   {'max_depth': 50, 'n_estimators': 400},\n",
              "   {'max_depth': 50, 'n_estimators': 500},\n",
              "   {'max_depth': 100, 'n_estimators': 300},\n",
              "   {'max_depth': 100, 'n_estimators': 400},\n",
              "   {'max_depth': 100, 'n_estimators': 500},\n",
              "   {'max_depth': 500, 'n_estimators': 300},\n",
              "   {'max_depth': 500, 'n_estimators': 400},\n",
              "   {'max_depth': 500, 'n_estimators': 500}],\n",
              "  'split0_test_score': array([0.85494936, 0.85336974, 0.85264163, 0.94259528, 0.94329863,\n",
              "         0.94239724, 0.96309923, 0.96354474, 0.96249736, 0.96234959,\n",
              "         0.96302801, 0.9626494 , 0.96274251, 0.96212215, 0.96369716]),\n",
              "  'split1_test_score': array([0.86568882, 0.86037173, 0.86215472, 0.9415562 , 0.94273551,\n",
              "         0.94488555, 0.96318021, 0.96263487, 0.9619606 , 0.96359322,\n",
              "         0.96134134, 0.96286707, 0.96101106, 0.96223819, 0.963313  ]),\n",
              "  'split2_test_score': array([0.85755382, 0.85719507, 0.85661301, 0.94356736, 0.94264259,\n",
              "         0.94431223, 0.96247275, 0.96277855, 0.96227778, 0.96142507,\n",
              "         0.96188866, 0.96337454, 0.96290531, 0.96236931, 0.96306212]),\n",
              "  'split3_test_score': array([0.86271273, 0.86061415, 0.86561844, 0.94990256, 0.95015603,\n",
              "         0.95088188, 0.9705734 , 0.96973244, 0.96868394, 0.96855642,\n",
              "         0.96762692, 0.96973099, 0.96813938, 0.96882038, 0.97005062]),\n",
              "  'split4_test_score': array([0.85920303, 0.86265527, 0.86263945, 0.94598225, 0.94738018,\n",
              "         0.94590007, 0.96653892, 0.96794109, 0.96704863, 0.96748256,\n",
              "         0.96660351, 0.96682933, 0.96685363, 0.96780941, 0.96754226]),\n",
              "  'mean_test_score': array([0.86002155, 0.85884119, 0.85993345, 0.94472073, 0.94524259,\n",
              "         0.94567539, 0.9651729 , 0.96532634, 0.96449366, 0.96468137,\n",
              "         0.96409769, 0.96509026, 0.96433038, 0.96467189, 0.96553303]),\n",
              "  'std_test_score': array([0.0037907 , 0.00324591, 0.00466415, 0.00297674, 0.0030178 ,\n",
              "         0.00284205, 0.00305264, 0.00293803, 0.00280706, 0.00283152,\n",
              "         0.00254386, 0.00277145, 0.00269982, 0.00299266, 0.00278747]),\n",
              "  'rank_test_score': array([13, 15, 14, 12, 11, 10,  3,  2,  7,  5,  9,  4,  8,  6,  1],\n",
              "        dtype=int32)},\n",
              " 'n_splits_': 5}"
            ]
          },
          "metadata": {},
          "execution_count": 231
        }
      ]
    },
    {
      "cell_type": "code",
      "source": [
        "# upon reviewing grid_results,    {'max_depth': 50, 'n_estimators': 400, max_features:'sqrt'}\n",
        "# is chosen because it achieves very close results when compare to {'max_depth': 500, 'n_estimators': 500}\n",
        "# a less flexible model generally produce better result in test.\n",
        "\n",
        "# fitting again with fine-tuned parameters\n",
        "from sklearn.preprocessing import StandardScaler\n",
        "from sklearn.ensemble import RandomForestClassifier\n",
        "import time\n",
        "\n",
        "# Prepare training set\n",
        "scaler = StandardScaler()\n",
        "X, y = train.iloc[:,1:], train['label']\n",
        "\n",
        "# fit RandomForestClassifer model and measure training time\n",
        "rfc = RandomForestClassifier(max_depth=50, n_estimators=400, max_features='sqrt', n_jobs=-1)\n",
        "start_time = time.time()\n",
        "rfc.fit(X,y)\n",
        "elapsed_time = time.time() - start_time\n",
        "print('\\nelapsed_time =', elapsed_time, 's')"
      ],
      "metadata": {
        "colab": {
          "base_uri": "https://localhost:8080/"
        },
        "id": "r7fBdp9gLUlt",
        "outputId": "38ae8887-6195-4dd4-b0e7-e216ccf70abc"
      },
      "execution_count": null,
      "outputs": [
        {
          "output_type": "execute_result",
          "data": {
            "text/plain": [
              "RandomForestClassifier(max_depth=50, max_features='sqrt', n_estimators=400,\n",
              "                       n_jobs=-1)"
            ]
          },
          "metadata": {},
          "execution_count": 64
        },
        {
          "output_type": "stream",
          "name": "stdout",
          "text": [
            "\n",
            "elapsed_time = 26.486990213394165 s\n"
          ]
        }
      ]
    },
    {
      "cell_type": "markdown",
      "source": [
        "#### K-Nearest Neighbour (Tuned)"
      ],
      "metadata": {
        "id": "mleWQ7E3kbWk"
      }
    },
    {
      "cell_type": "code",
      "source": [
        "from sklearn.preprocessing import StandardScaler\n",
        "from sklearn.neighbors import KNeighborsClassifier\n",
        "from sklearn.metrics import f1_score\n",
        "from sklearn.model_selection import cross_val_predict\n",
        "import time\n",
        "\n",
        "# Prepare training set\n",
        "scaler = StandardScaler()\n",
        "X, y = scaler.fit_transform(train.iloc[:,1:]), train['label']\n",
        "\n",
        "\n",
        "# fit RandomForestClassifer model and measure training time\n",
        "knn_clf = KNeighborsClassifier(weights='distance', n_jobs=-1)\n",
        "start_time = time.time()\n",
        "knn_clf.fit(X,y)\n",
        "elapsed_time = time.time() - start_time\n",
        "print('\\nelapsed_time =', elapsed_time, 's')\n",
        "\n",
        "# upon multiple tuning, weights = 'distance' is better than 'uniform'\n",
        "# no difference between algorithm setting\n",
        "# n_neighbors = 3 provides the best results, k = 5 also perform closely\n",
        "# perform final search for n_neighbours\n",
        "\n",
        "for i in (1, 3, 5, 7, 9):\n",
        "  knn_clf = KNeighborsClassifier(n_neighbors=i, weights='distance', n_jobs=-1)\n",
        "  start_time = time.time()\n",
        "  knn_clf.fit(X,y)\n",
        "  elapsed_time = time.time() - start_time\n",
        "  print('\\nelapsed_time =', elapsed_time, 's')\n",
        "  pred = cross_val_predict(knn_clf, X, y, cv = 3, n_jobs=-1)\n",
        "  score = f1_score(y, pred, average = 'macro')\n",
        "  print('f1 macro score of n_neighbors=', i, 'is', score)"
      ],
      "metadata": {
        "colab": {
          "base_uri": "https://localhost:8080/"
        },
        "id": "6uGIlkvipDWB",
        "outputId": "9b6a0399-a08b-4eb4-eb92-5c48340e9b28"
      },
      "execution_count": null,
      "outputs": [
        {
          "output_type": "execute_result",
          "data": {
            "text/plain": [
              "KNeighborsClassifier(n_jobs=-1, weights='distance')"
            ]
          },
          "metadata": {},
          "execution_count": 32
        },
        {
          "output_type": "stream",
          "name": "stdout",
          "text": [
            "\n",
            "elapsed_time = 0.015182971954345703 s\n"
          ]
        }
      ]
    },
    {
      "cell_type": "code",
      "source": [
        "# Upon fine tuning, KNN does not perform as well as Random Forest and SVC."
      ],
      "metadata": {
        "id": "OHvWqiMUibJV"
      },
      "execution_count": null,
      "outputs": []
    },
    {
      "cell_type": "markdown",
      "source": [
        "#### SVC OneVsRest"
      ],
      "metadata": {
        "id": "ThgbCMUd6itg"
      }
    },
    {
      "cell_type": "code",
      "source": [
        "from sklearn.svm import SVC\n",
        "from sklearn.preprocessing import StandardScaler\n",
        "from sklearn.metrics import f1_score\n",
        "from sklearn.model_selection import cross_val_score\n",
        "import time\n",
        "\n",
        "# Prepare training set\n",
        "X, y = train.iloc[:,1:], train['label']\n",
        "\n",
        "# create SVC\n",
        "ovr_clf = SVC(decision_function_shape='ovr')\n",
        "start_time = time.time()\n",
        "ovr_clf.fit(X, y)\n",
        "elapsed_time = time.time() - start_time\n",
        "print('\\nelapsed_time =', elapsed_time, 's\\n')\n",
        "\n",
        "# perform cross validation\n",
        "score = cross_val_score(ovr_clf, X, y, cv = 3, scoring = 'f1_macro', n_jobs=-1)\n",
        "print('CV score =' , score , 'CV score mean = ', score.mean())"
      ],
      "metadata": {
        "colab": {
          "base_uri": "https://localhost:8080/"
        },
        "id": "YqCLsUFI4Gzy",
        "outputId": "71742cab-338e-46e0-d9ab-60589dd4e523"
      },
      "execution_count": null,
      "outputs": [
        {
          "output_type": "execute_result",
          "data": {
            "text/plain": [
              "SVC()"
            ]
          },
          "metadata": {},
          "execution_count": 33
        },
        {
          "output_type": "stream",
          "name": "stdout",
          "text": [
            "\n",
            "elapsed_time = 224.44189715385437 s\n",
            "\n"
          ]
        }
      ]
    },
    {
      "cell_type": "markdown",
      "source": [
        "##### SVC Tuning"
      ],
      "metadata": {
        "id": "hv69sKzzn3zc"
      }
    },
    {
      "cell_type": "code",
      "source": [
        "from sklearn.model_selection import GridSearchCV\n",
        "\n",
        "param_grid = {'C': (5, 10, 20, 30, 40, 50)}\n",
        "grid = GridSearchCV(SVC(decision_function_shape='ovr'), param_grid, refit = True, scoring='f1_macro', n_jobs=-1)\n",
        "grid.fit(X,y)\n",
        "grid.__dict__"
      ],
      "metadata": {
        "colab": {
          "base_uri": "https://localhost:8080/"
        },
        "id": "97Xe7Jj2n5_p",
        "outputId": "90b2d300-d878-4474-f581-8b46f677f0c0"
      },
      "execution_count": null,
      "outputs": [
        {
          "output_type": "execute_result",
          "data": {
            "text/plain": [
              "GridSearchCV(estimator=SVC(), n_jobs=-1,\n",
              "             param_grid={'C': (5, 10, 20, 30, 40, 50)}, scoring='f1_macro')"
            ]
          },
          "metadata": {},
          "execution_count": 53
        },
        {
          "output_type": "execute_result",
          "data": {
            "text/plain": [
              "{'scoring': 'f1_macro',\n",
              " 'estimator': SVC(),\n",
              " 'n_jobs': -1,\n",
              " 'refit': True,\n",
              " 'cv': None,\n",
              " 'verbose': 0,\n",
              " 'pre_dispatch': '2*n_jobs',\n",
              " 'error_score': nan,\n",
              " 'return_train_score': False,\n",
              " 'param_grid': {'C': (5, 10, 20, 30, 40, 50)},\n",
              " 'multimetric_': False,\n",
              " 'best_index_': 1,\n",
              " 'best_score_': 0.9662680192586223,\n",
              " 'best_params_': {'C': 10},\n",
              " 'best_estimator_': SVC(C=10),\n",
              " 'refit_time_': 207.20520114898682,\n",
              " 'scorer_': make_scorer(f1_score, pos_label=None, average=macro),\n",
              " 'cv_results_': {'mean_fit_time': array([551.45630617, 560.10795302, 578.19227653, 570.48312669,\n",
              "         551.08063974, 450.39531484]),\n",
              "  'std_fit_time': array([ 5.14004676, 14.36708977,  5.21793676,  6.56677513, 48.06636829,\n",
              "          3.48103743]),\n",
              "  'mean_score_time': array([177.39262209, 180.73670883, 187.04989109, 191.27028565,\n",
              "         181.70703311, 139.66910763]),\n",
              "  'std_score_time': array([ 2.0266121 ,  3.74434317,  1.96566755,  4.61686421, 19.47623875,\n",
              "          4.51140583]),\n",
              "  'param_C': masked_array(data=[5, 10, 20, 30, 40, 50],\n",
              "               mask=[False, False, False, False, False, False],\n",
              "         fill_value='?',\n",
              "              dtype=object),\n",
              "  'params': [{'C': 5}, {'C': 10}, {'C': 20}, {'C': 30}, {'C': 40}, {'C': 50}],\n",
              "  'split0_test_score': array([0.96277151, 0.96429709, 0.96368859, 0.96368859, 0.96356013,\n",
              "         0.96367641]),\n",
              "  'split1_test_score': array([0.96822175, 0.96796801, 0.9679534 , 0.96759585, 0.96783798,\n",
              "         0.96783798]),\n",
              "  'split2_test_score': array([0.96501194, 0.96596509, 0.96487144, 0.96499466, 0.96500153,\n",
              "         0.96499799]),\n",
              "  'split3_test_score': array([0.96520664, 0.96591648, 0.9658159 , 0.96592373, 0.96581026,\n",
              "         0.96581026]),\n",
              "  'split4_test_score': array([0.96622144, 0.96719342, 0.96671015, 0.96649592, 0.96625299,\n",
              "         0.96625299]),\n",
              "  'mean_test_score': array([0.96548666, 0.96626802, 0.9658079 , 0.96573975, 0.96569258,\n",
              "         0.96571513]),\n",
              "  'std_test_score': array([0.0017718 , 0.0012527 , 0.00146872, 0.00132764, 0.00141107,\n",
              "         0.00137662]),\n",
              "  'rank_test_score': array([6, 1, 2, 3, 5, 4], dtype=int32)},\n",
              " 'n_splits_': 5}"
            ]
          },
          "metadata": {},
          "execution_count": 53
        }
      ]
    },
    {
      "cell_type": "code",
      "source": [
        "# refitting C=10\n",
        "# Prepare training set\n",
        "X, y = train.iloc[:,1:], train['label']\n",
        "ovr_clf = SVC(decision_function_shape='ovr', C=10)\n",
        "ovr_clf.fit(X, y)"
      ],
      "metadata": {
        "colab": {
          "base_uri": "https://localhost:8080/"
        },
        "id": "Ctbl4Fs6XKOU",
        "outputId": "5386ef07-99fa-4b2c-ecfe-3e3a60bbac7f"
      },
      "execution_count": null,
      "outputs": [
        {
          "output_type": "execute_result",
          "data": {
            "text/plain": [
              "SVC(C=10)"
            ]
          },
          "metadata": {},
          "execution_count": 66
        }
      ]
    },
    {
      "cell_type": "markdown",
      "source": [
        "### Predict on test set"
      ],
      "metadata": {
        "id": "Y1An0hKo5n3B"
      }
    },
    {
      "cell_type": "code",
      "source": [
        "# Random Forest Classifier (tuned)\n",
        "pred = rfc.predict(test)\n",
        "\n",
        "## prepare submission file\n",
        "submission = pd.DataFrame({'ImageId': (test.index + 1), 'Label': pred})\n",
        "\n",
        "# export prediction\n",
        "submission.to_csv('submission_rfc3.csv', index=False)"
      ],
      "metadata": {
        "id": "dsFSi24C5wJv"
      },
      "execution_count": null,
      "outputs": []
    },
    {
      "cell_type": "code",
      "source": [
        "# SVM Classifier (tuned)\n",
        "pred = ovr_clf.predict(test)\n",
        "\n",
        "## prepare submission file\n",
        "submission = pd.DataFrame({'ImageId': (test.index + 1), 'Label': pred})\n",
        "\n",
        "# export prediction\n",
        "submission.to_csv('submission_ovr_clf.csv', index=False)"
      ],
      "metadata": {
        "id": "7ISI2ZRdFmS1"
      },
      "execution_count": null,
      "outputs": []
    },
    {
      "cell_type": "markdown",
      "source": [
        "### Conclusion"
      ],
      "metadata": {
        "id": "OhNdYpWpb7Gb"
      }
    },
    {
      "cell_type": "markdown",
      "source": [
        "Ditig reconition was one of the very first application of machine learning in solving real live problem. It helped US Post Office to process letter distributions more efficiently. \n",
        "\n",
        "3 models were built and each evaluated by cross-valiation, and carried out parameter tuning. KNN doesn't perform close to Random Forest or SVC. \n",
        "\n",
        "| Model | Training Time | Public Result |\n",
        "|--- | --- | --- |\n",
        "| Random Forest | 6.75s | 0.96764 |\n",
        "| SVC (OneVsRest) | 224.44s |0.98207 |\n",
        "\n",
        "SVC tuned model had a slightly higher f1 score (averaging all classes) than Random Forest while the prediction result is way better. It could be because Random Forest model is biased towards the seen data."
      ],
      "metadata": {
        "id": "0nHHC7Gxco2I"
      }
    },
    {
      "cell_type": "code",
      "source": [
        ""
      ],
      "metadata": {
        "id": "HLFEwAi4eFAH"
      },
      "execution_count": null,
      "outputs": []
    }
  ]
}